{
 "cells": [
  {
   "cell_type": "markdown",
   "metadata": {},
   "source": [
    "# Контейнеры в Python"
   ]
  },
  {
   "cell_type": "markdown",
   "metadata": {},
   "source": [
    "## Множества. Класс Set"
   ]
  },
  {
   "cell_type": "markdown",
   "metadata": {},
   "source": [
    "Set - это множество, в котором элементы не повторяются. Элементы множества никак не упорядочены. \n",
    "Создание множества:"
   ]
  },
  {
   "cell_type": "code",
   "execution_count": 1,
   "metadata": {
    "collapsed": false,
    "scrolled": true
   },
   "outputs": [
    {
     "name": "stdout",
     "output_type": "stream",
     "text": [
      "{3} {5}\n"
     ]
    }
   ],
   "source": [
    "a = set()\n",
    "a.add(3)  # добавление элемента, O(1)\n",
    "b = {5}\n",
    "print(a, b)"
   ]
  },
  {
   "cell_type": "code",
   "execution_count": 2,
   "metadata": {
    "collapsed": false,
    "scrolled": true
   },
   "outputs": [
    {
     "name": "stdout",
     "output_type": "stream",
     "text": [
      "{2, 4, 6}\n"
     ]
    }
   ],
   "source": [
    "c = {4, 4, 2, 6}  # элементы не повторяются\n",
    "print(c)  # порядок элементов не важен"
   ]
  },
  {
   "cell_type": "code",
   "execution_count": 4,
   "metadata": {
    "collapsed": false,
    "scrolled": true
   },
   "outputs": [
    {
     "name": "stdout",
     "output_type": "stream",
     "text": [
      "{8, 1, 3, 7}\n",
      "[8, 1, 3, 7]\n"
     ]
    }
   ],
   "source": [
    "lst = [7, 1, 3, 3, 8]\n",
    "a = set(lst)  # приведение списка к множеству (выкинули повторения)\n",
    "print(a)\n",
    "\n",
    "print(list(a))  # приведение множества к списку"
   ]
  },
  {
   "cell_type": "markdown",
   "metadata": {},
   "source": [
    "### Операции над множествами"
   ]
  },
  {
   "cell_type": "markdown",
   "metadata": {},
   "source": [
    "Чтобы проверить, находится ли элемент в множестве, можно использовать оператор in. В среднем такая проверка занимает O(1)."
   ]
  },
  {
   "cell_type": "code",
   "execution_count": 5,
   "metadata": {
    "collapsed": false,
    "scrolled": true
   },
   "outputs": [
    {
     "name": "stdout",
     "output_type": "stream",
     "text": [
      "{4, 5}\n",
      "True\n",
      "NO\n",
      "2\n"
     ]
    }
   ],
   "source": [
    "b = {4, 5}\n",
    "print(b)\n",
    "print(5 in b)\n",
    "if 8 in b:\n",
    "    print(\"YES\")\n",
    "else:\n",
    "    print(\"NO\")\n",
    "print(len(b))  # размер (мощность) множества - количество элементов"
   ]
  },
  {
   "cell_type": "markdown",
   "metadata": {},
   "source": [
    "Удаление элемента из множества, в среднем за O(1):"
   ]
  },
  {
   "cell_type": "code",
   "execution_count": 6,
   "metadata": {
    "collapsed": false
   },
   "outputs": [
    {
     "name": "stdout",
     "output_type": "stream",
     "text": [
      "{1, 2, 4, 6}\n",
      "{1, 2, 6}\n",
      "{1, 2, 6}\n"
     ]
    },
    {
     "ename": "KeyError",
     "evalue": "8000",
     "output_type": "error",
     "traceback": [
      "\u001b[1;31m---------------------------------------------------------------------------\u001b[0m",
      "\u001b[1;31mKeyError\u001b[0m                                  Traceback (most recent call last)",
      "\u001b[1;32m<ipython-input-6-5f2bf569c4f6>\u001b[0m in \u001b[0;36m<module>\u001b[1;34m()\u001b[0m\n\u001b[0;32m      7\u001b[0m \u001b[0ma\u001b[0m\u001b[1;33m.\u001b[0m\u001b[0mdiscard\u001b[0m\u001b[1;33m(\u001b[0m\u001b[1;36m8000\u001b[0m\u001b[1;33m)\u001b[0m\u001b[1;33m\u001b[0m\u001b[0m\n\u001b[0;32m      8\u001b[0m \u001b[0mprint\u001b[0m\u001b[1;33m(\u001b[0m\u001b[0ma\u001b[0m\u001b[1;33m)\u001b[0m\u001b[1;33m\u001b[0m\u001b[0m\n\u001b[1;32m----> 9\u001b[1;33m \u001b[0ma\u001b[0m\u001b[1;33m.\u001b[0m\u001b[0mremove\u001b[0m\u001b[1;33m(\u001b[0m\u001b[1;36m8000\u001b[0m\u001b[1;33m)\u001b[0m\u001b[1;33m\u001b[0m\u001b[0m\n\u001b[0m\u001b[0;32m     10\u001b[0m \u001b[0mprint\u001b[0m\u001b[1;33m(\u001b[0m\u001b[0ma\u001b[0m\u001b[1;33m)\u001b[0m\u001b[1;33m\u001b[0m\u001b[0m\n",
      "\u001b[1;31mKeyError\u001b[0m: 8000"
     ]
    }
   ],
   "source": [
    "a = {1, 2, 4, 5, 6}\n",
    "a.discard(5)\n",
    "print(a)\n",
    "a.remove(4)\n",
    "print(a)\n",
    "\n",
    "a.discard(8000)\n",
    "print(a)\n",
    "a.remove(8000)\n",
    "print(a)"
   ]
  },
  {
   "cell_type": "markdown",
   "metadata": {},
   "source": [
    "Над двумя множествами A и B можно производить операции:\n",
    "\n",
    "* Объединение. В объединение входят элементы, которые есть или в первом, или во втором множестве. В среднем работает за O(len(A) + len(B)).\n",
    "* Разность. Из элементов первого множества вычёркиваются элементы второго множества. В среднем работает за O(len(A)).\n",
    "* Пересечение. В пересечение входят только те элементы, которые есть и в первом, и во втором множестве. В среднем работает за O(min(len(A), len(B))).\n",
    "* Симметрическая разность. Элементы входят либо только в первое, либо только во второе множество. В среднем работает за O(len(A) + len(B))."
   ]
  },
  {
   "cell_type": "code",
   "execution_count": 7,
   "metadata": {
    "collapsed": false,
    "scrolled": true
   },
   "outputs": [
    {
     "name": "stdout",
     "output_type": "stream",
     "text": [
      "{2, 3, 4, 5}\n",
      "{3, 4}\n",
      "{2}\n",
      "{3, 4, 5}\n"
     ]
    }
   ],
   "source": [
    "a = {2, 3, 4}\n",
    "b = {5, 2}\n",
    "print(a | b)  # объединение (or)\n",
    "print(a - b)  # разность\n",
    "print(a & b)  # пересечение (and)\n",
    "print(a ^ b)  # симметричная разность (xor)"
   ]
  },
  {
   "cell_type": "markdown",
   "metadata": {},
   "source": [
    "В питоне два множества можно сравнить. Множество A меньше множества B, если все элементы множества A содержатся в множестве B, и при этом A != B. Сравнения выполняются за O(len(A) + len(B))."
   ]
  },
  {
   "cell_type": "code",
   "execution_count": 11,
   "metadata": {
    "collapsed": false
   },
   "outputs": [
    {
     "name": "stdout",
     "output_type": "stream",
     "text": [
      "{2, 3, 4} {2, 3, 4}\n",
      "False\n",
      "False\n",
      "True\n",
      "True\n"
     ]
    }
   ],
   "source": [
    "a = {2, 3, 4}\n",
    "b = {4, 3, 2}\n",
    "\n",
    "print(a, b)\n",
    "\n",
    "# Сравнения\n",
    "print(a < b)\n",
    "print(a > b)\n",
    "print(a >= b)\n",
    "print(a == b)"
   ]
  },
  {
   "cell_type": "markdown",
   "metadata": {
    "collapsed": true
   },
   "source": [
    "### Проход по множеству"
   ]
  },
  {
   "cell_type": "code",
   "execution_count": 12,
   "metadata": {
    "collapsed": false,
    "scrolled": true
   },
   "outputs": [
    {
     "name": "stdout",
     "output_type": "stream",
     "text": [
      "9 2 3 1 6 \n",
      "9 2 3 1 6 "
     ]
    }
   ],
   "source": [
    "a = {1, 2, 6, 9, 3}\n",
    "\n",
    "for elem in a:\n",
    "    print(elem, end=\" \")\n",
    "print()\n",
    "\n",
    "while a:\n",
    "    elem = a.pop()\n",
    "    print(elem, end=\" \")"
   ]
  },
  {
   "cell_type": "markdown",
   "metadata": {},
   "source": [
    "Так же, как и для списков, существуют генераторы множеств:"
   ]
  },
  {
   "cell_type": "code",
   "execution_count": 13,
   "metadata": {
    "collapsed": false
   },
   "outputs": [
    {
     "name": "stdout",
     "output_type": "stream",
     "text": [
      "{0, 1, 64, 4, 36, 9, 16, 49, 81, 25}\n"
     ]
    }
   ],
   "source": [
    "a = {i ** 2 for i in range(10)}\n",
    "print(a)"
   ]
  },
  {
   "cell_type": "markdown",
   "metadata": {
    "collapsed": true
   },
   "source": [
    "## Map, zip и другие полезные фишки"
   ]
  },
  {
   "cell_type": "markdown",
   "metadata": {},
   "source": [
    "Map применяет функцию (первый параметр) к каждому элементу из списка (второй параметр). "
   ]
  },
  {
   "cell_type": "code",
   "execution_count": 19,
   "metadata": {
    "collapsed": false,
    "scrolled": true
   },
   "outputs": [
    {
     "name": "stdout",
     "output_type": "stream",
     "text": [
      "[0, 5, 7] <class 'int'>\n"
     ]
    }
   ],
   "source": [
    "lst = list(map(min, [[4, 0], [5, 7], [7]]))\n",
    "print(lst, type(lst[0]))"
   ]
  },
  {
   "cell_type": "markdown",
   "metadata": {},
   "source": [
    "Оператор * распаковывает список в параметры функции."
   ]
  },
  {
   "cell_type": "code",
   "execution_count": 20,
   "metadata": {
    "collapsed": false
   },
   "outputs": [
    {
     "name": "stdout",
     "output_type": "stream",
     "text": [
      "[1] [3] [5] [3]\n"
     ]
    }
   ],
   "source": [
    "lst = [[1], [3], [5], [3]]\n",
    "print(*lst)"
   ]
  },
  {
   "cell_type": "markdown",
   "metadata": {},
   "source": [
    "### Распаковка кортежей"
   ]
  },
  {
   "cell_type": "markdown",
   "metadata": {},
   "source": [
    "Тут, вроде бы, ничего нового:"
   ]
  },
  {
   "cell_type": "code",
   "execution_count": 21,
   "metadata": {
    "collapsed": false
   },
   "outputs": [
    {
     "name": "stdout",
     "output_type": "stream",
     "text": [
      "1 2 3\n",
      "1 2 3\n",
      "1 3 5\n"
     ]
    }
   ],
   "source": [
    "a, b, c = 1, 2, 3\n",
    "print(a, b, c)\n",
    "\n",
    "a, b, c = [1, 2, 3]\n",
    "print(a, b, c)\n",
    "\n",
    "a, b, c = (2 * i + 1 for i in range(3))\n",
    "print(a, b, c)"
   ]
  },
  {
   "cell_type": "markdown",
   "metadata": {},
   "source": [
    "Но в 3-м питоне можно ещё и так:"
   ]
  },
  {
   "cell_type": "code",
   "execution_count": 24,
   "metadata": {
    "collapsed": false
   },
   "outputs": [
    {
     "name": "stdout",
     "output_type": "stream",
     "text": [
      "1 2 3 4\n",
      "1 2 [3, 4, 5]\n"
     ]
    }
   ],
   "source": [
    "a, (b, c), d = [1, (2, 3), 4]\n",
    "print(a, b, c, d)\n",
    "\n",
    "a, b, *c = [1, 2, 3, 4, 5]\n",
    "print(a, b, c)"
   ]
  },
  {
   "cell_type": "markdown",
   "metadata": {},
   "source": [
    "### Zip"
   ]
  },
  {
   "cell_type": "markdown",
   "metadata": {},
   "source": [
    "Zip берёт первые элементы списка и объединяет их в один кортеж. Потом берёт вторые и тоже объединяет. И так далее. Если где-то есть лишние элементы, которые нельзя \"запаковать\", то они игнорируются."
   ]
  },
  {
   "cell_type": "code",
   "execution_count": 25,
   "metadata": {
    "collapsed": false,
    "scrolled": true
   },
   "outputs": [
    {
     "name": "stdout",
     "output_type": "stream",
     "text": [
      "[(1, 5), (2, 6), (4, 3)]\n",
      "[(5, 1), (6, 2), (3, 4)]\n",
      "1 5\n",
      "2 6\n",
      "4 3\n",
      "[(1, 5, 3), (2, 6, 4)]\n"
     ]
    }
   ],
   "source": [
    "a = [1, 2, 4, 8]\n",
    "b = [5, 6, 3]\n",
    "print(list(zip(a, b)))\n",
    "print(list(zip(b, a)))\n",
    "\n",
    "for x, y in zip(a, b):\n",
    "    print(x, y)\n",
    "\n",
    "c = [3, 4]\n",
    "print(list(zip(a, b, c)))"
   ]
  },
  {
   "cell_type": "markdown",
   "metadata": {},
   "source": [
    "О, но так же можно и матрицу повернуть!"
   ]
  },
  {
   "cell_type": "code",
   "execution_count": 26,
   "metadata": {
    "collapsed": false,
    "scrolled": true
   },
   "outputs": [
    {
     "name": "stdout",
     "output_type": "stream",
     "text": [
      "[[1, 0, 0, 4], [0, 1, 0, 1], [0, 0, 1, 1], [0, 2, 0, 1]]\n",
      "[[1, 0, 0, 4], [0, 1, 0, 1], [0, 0, 1, 1], [0, 2, 0, 1]]\n"
     ]
    }
   ],
   "source": [
    "matrix = [[1, 0, 0, 0],\n",
    "          [0, 1, 0, 2],\n",
    "          [0, 0, 1, 0],\n",
    "          [4, 1, 1, 1]]\n",
    "\n",
    "turned_matrix = [list(row) for row in zip(*matrix)]\n",
    "print(turned_matrix)\n",
    "print(list(map(list, zip(*matrix))))"
   ]
  },
  {
   "cell_type": "markdown",
   "metadata": {},
   "source": [
    "### Help, dir"
   ]
  },
  {
   "cell_type": "markdown",
   "metadata": {},
   "source": [
    "Я, как всегда, забыл, как работает remove. Если элемента в списке нет, что произойдёт?"
   ]
  },
  {
   "cell_type": "code",
   "execution_count": 27,
   "metadata": {
    "collapsed": false
   },
   "outputs": [
    {
     "name": "stdout",
     "output_type": "stream",
     "text": [
      "Help on method_descriptor:\n",
      "\n",
      "remove(...)\n",
      "    L.remove(value) -> None -- remove first occurrence of value.\n",
      "    Raises ValueError if the value is not present.\n",
      "\n",
      "['__and__', '__class__', '__contains__', '__delattr__', '__dir__', '__doc__', '__eq__', '__format__', '__ge__', '__getattribute__', '__gt__', '__hash__', '__iand__', '__init__', '__ior__', '__isub__', '__iter__', '__ixor__', '__le__', '__len__', '__lt__', '__ne__', '__new__', '__or__', '__rand__', '__reduce__', '__reduce_ex__', '__repr__', '__ror__', '__rsub__', '__rxor__', '__setattr__', '__sizeof__', '__str__', '__sub__', '__subclasshook__', '__xor__', 'add', 'clear', 'copy', 'difference', 'difference_update', 'discard', 'intersection', 'intersection_update', 'isdisjoint', 'issubset', 'issuperset', 'pop', 'remove', 'symmetric_difference', 'symmetric_difference_update', 'union', 'update']\n"
     ]
    }
   ],
   "source": [
    "help(list.remove)\n",
    "print(dir(set))\n",
    "# help(set) - попробуйте сами"
   ]
  },
  {
   "cell_type": "markdown",
   "metadata": {},
   "source": [
    "## Словари. Класс dict"
   ]
  },
  {
   "cell_type": "markdown",
   "metadata": {},
   "source": [
    "Словари - это пары (ключ, значение). Создание словаря:"
   ]
  },
  {
   "cell_type": "code",
   "execution_count": 30,
   "metadata": {
    "collapsed": false
   },
   "outputs": [
    {
     "name": "stdout",
     "output_type": "stream",
     "text": [
      "{}\n",
      "{1: 3, '4': 8}\n",
      "{}\n",
      "{1: 2, 'a': 13}\n",
      "{'two': 2, 'one': 1}\n",
      "\n",
      "{'hello': 'world'}\n",
      "{'one': 8}\n",
      "3 13 8 None 0\n"
     ]
    }
   ],
   "source": [
    "a = {}\n",
    "b = {1: 3, \"4\": 8}\n",
    "c = dict()  \n",
    "d = dict(((1, 2), (\"a\", 13)))\n",
    "e = dict(one=1, two=2)\n",
    "print(a, b, c, d, e, sep=\"\\n\", end=\"\\n\\n\")\n",
    "\n",
    "c['hello'] = 'world'  # добавление элемента, O(1)\n",
    "e['one'] = 8          # изменение элемента, O(1)\n",
    "e.pop('two')          # удаление элемента, O(1)\n",
    "print(c, e, sep=\"\\n\")\n",
    "print(b[1], d[\"a\"], b.get(\"4\"), b.get(\"8\"), e.get(\"three\", 0))  # e[0] - KeyError"
   ]
  },
  {
   "cell_type": "code",
   "execution_count": 35,
   "metadata": {
    "collapsed": false,
    "scrolled": true
   },
   "outputs": [
    {
     "name": "stdout",
     "output_type": "stream",
     "text": [
      "{1: 3, '1': 4, 6: 2, 7: 1, '3': 3, '2': 5, '0': 1, (3, 4): 1, '5': 4}\n"
     ]
    }
   ],
   "source": [
    "to_sort = [(3, 4), 1, 1, 6, 7, 1, 6, \"5\", \"2\", \"2\", \"2\", \"1\", \"1\", \"1\", \"0\", \"3\", \"3\", \"2\", \"2\", \"5\", \"5\", \"5\", \"3\", \"1\"]\n",
    "\n",
    "count_sort = {}\n",
    "for elem in to_sort:\n",
    "    count_sort[elem] = count_sort.get(elem, 0) + 1\n",
    "\n",
    "print(count_sort)"
   ]
  },
  {
   "cell_type": "markdown",
   "metadata": {},
   "source": [
    "### Стандартные методы"
   ]
  },
  {
   "cell_type": "markdown",
   "metadata": {},
   "source": [
    "* dict.items() - кортежи из пар (ключ, значение)\n",
    "* dict.keys() - список ключей\n",
    "* dict.values() - список значений\n",
    "* len(dict) - размер словаря"
   ]
  },
  {
   "cell_type": "code",
   "execution_count": 36,
   "metadata": {
    "collapsed": false,
    "scrolled": true
   },
   "outputs": [
    {
     "name": "stdout",
     "output_type": "stream",
     "text": [
      "a: 18\n",
      "b: 10\n",
      "c: 13\n",
      "\n",
      "a 18 b 10 c 13 \n",
      "18 10 13 \n",
      "3\n"
     ]
    }
   ],
   "source": [
    "a = {\"a\": 18, \"b\": 10, \"c\": 13}\n",
    "\n",
    "for x, y in a.items():\n",
    "    print(\"%s: %s\" % (x, y))\n",
    "print()\n",
    "\n",
    "for x in a.keys():\n",
    "    print(x, a[x], end=\" \")\n",
    "print()\n",
    "\n",
    "for x in a.values():\n",
    "    print(x, end=\" \")\n",
    "print()\n",
    "\n",
    "print(len(a))"
   ]
  },
  {
   "cell_type": "markdown",
   "metadata": {},
   "source": [
    "## Лямбда-функции"
   ]
  },
  {
   "cell_type": "markdown",
   "metadata": {},
   "source": [
    "Анонимные функции без названия"
   ]
  },
  {
   "cell_type": "code",
   "execution_count": 38,
   "metadata": {
    "collapsed": false
   },
   "outputs": [
    {
     "name": "stdout",
     "output_type": "stream",
     "text": [
      "2 4 5\n",
      "[1, 3, 4]\n",
      "2 4 5\n",
      "[1, 3, 4]\n"
     ]
    }
   ],
   "source": [
    "print(list(map(lambda x: int(x) - 1, input().split())))\n",
    "print([int(x) - 1 for x in input().split()])"
   ]
  },
  {
   "cell_type": "code",
   "execution_count": 39,
   "metadata": {
    "collapsed": false
   },
   "outputs": [
    {
     "data": {
      "text/plain": [
       "[3, 6, 12]"
      ]
     },
     "execution_count": 39,
     "metadata": {},
     "output_type": "execute_result"
    }
   ],
   "source": [
    "lst = [3, 5, 6]\n",
    "func_array = [min, max, lambda x: x[0] * 4]\n",
    "[func(lst) for func in func_array]"
   ]
  },
  {
   "cell_type": "code",
   "execution_count": 45,
   "metadata": {
    "collapsed": false
   },
   "outputs": [
    {
     "name": "stdout",
     "output_type": "stream",
     "text": [
      "[(3, 8), (4, 5)]\n"
     ]
    }
   ],
   "source": [
    "lst = [1, 900, 6, 2, 332040, 0, 111111, 54]\n",
    "lst = [(4, 5), (3, 8)]\n",
    "lst.sort(key=lambda x: x[0])\n",
    "print(lst)"
   ]
  },
  {
   "cell_type": "code",
   "execution_count": 52,
   "metadata": {
    "collapsed": false
   },
   "outputs": [
    {
     "name": "stdout",
     "output_type": "stream",
     "text": [
      "5.0\n",
      "7.615773105863909\n",
      "1.4142135623730951\n",
      "3\n"
     ]
    }
   ],
   "source": [
    "def f(func, x, y):\n",
    "    return func(x, y)\n",
    "\n",
    "vector_len = lambda x, y: (x ** 2 + y ** 2) ** 0.5\n",
    "print(vector_len(3, 4))\n",
    "print(vector_len(-3, 7))\n",
    "\n",
    "# Можно функции использовать почти как обычные переменные\n",
    "another_name = vector_len\n",
    "print(another_name(1, 1))\n",
    "\n",
    "print(f(lambda x, y: y, 1, 3))"
   ]
  },
  {
   "cell_type": "markdown",
   "metadata": {},
   "source": [
    "## И другие фишки"
   ]
  },
  {
   "cell_type": "code",
   "execution_count": 53,
   "metadata": {
    "collapsed": false
   },
   "outputs": [
    {
     "name": "stdout",
     "output_type": "stream",
     "text": [
      "0: Hello\n",
      "1: world\n",
      "2: !\n",
      "0: Hello\n",
      "1: world\n",
      "2: !\n"
     ]
    }
   ],
   "source": [
    "# Пронумеровать список\n",
    "a = ['Hello', 'world', '!']\n",
    "for i, x in enumerate(a):\n",
    "    print('{}: {}'.format(i, x))\n",
    "\n",
    "# То же самое:\n",
    "for i in range(len(a)):\n",
    "    print('%d: %s' % (i, a[i]))"
   ]
  },
  {
   "cell_type": "code",
   "execution_count": 54,
   "metadata": {
    "collapsed": false
   },
   "outputs": [
    {
     "data": {
      "text/plain": [
       "{1: 'a', 2: 'b', 3: 'c', 4: 'd'}"
      ]
     },
     "execution_count": 54,
     "metadata": {},
     "output_type": "execute_result"
    }
   ],
   "source": [
    "# Инвертировать словарь\n",
    "m = {'a': 1, 'b': 2, 'c': 3, 'd': 4}\n",
    "dict(zip(m.values(), m.keys()))"
   ]
  },
  {
   "cell_type": "code",
   "execution_count": 55,
   "metadata": {
    "collapsed": false
   },
   "outputs": [
    {
     "data": {
      "text/plain": [
       "[2, 8, 14, 20, 26, 32, 38]"
      ]
     },
     "execution_count": 55,
     "metadata": {},
     "output_type": "execute_result"
    }
   ],
   "source": [
    "# В генераторах можно писать и if\n",
    "[x * 2 for x in range(20) if x % 3 == 1]"
   ]
  },
  {
   "cell_type": "code",
   "execution_count": null,
   "metadata": {
    "collapsed": false
   },
   "outputs": [],
   "source": [
    "# if в одну строчку\n",
    "print(\"YES\" if 5 % 2 == 1 else \"NO\")"
   ]
  },
  {
   "cell_type": "code",
   "execution_count": 59,
   "metadata": {
    "collapsed": false
   },
   "outputs": [
    {
     "name": "stdout",
     "output_type": "stream",
     "text": [
      "defaultdict(<class 'int'>, {'a': 5})\n",
      "{'a': 5}\n",
      "defaultdict(<function <lambda> at 0x7fa97cb62488>, {3: 'abca'})\n"
     ]
    }
   ],
   "source": [
    "# Словарь со значением по умолчанию\n",
    "from collections import defaultdict\n",
    "\n",
    "d = defaultdict(int)\n",
    "d[\"a\"] += 5\n",
    "print(d)\n",
    "\n",
    "d = {}\n",
    "d[\"a\"] = d.get(\"a\", 0) + 5\n",
    "print(d)\n",
    "\n",
    "d2 = defaultdict(lambda: 'abc')\n",
    "d2[3] += 'a'\n",
    "print(d2)"
   ]
  }
 ],
 "metadata": {
  "kernelspec": {
   "display_name": "Python 3",
   "language": "python",
   "name": "python3"
  },
  "language_info": {
   "codemirror_mode": {
    "name": "ipython",
    "version": 3
   },
   "file_extension": ".py",
   "mimetype": "text/x-python",
   "name": "python",
   "nbconvert_exporter": "python",
   "pygments_lexer": "ipython3",
   "version": "3.4.3"
  }
 },
 "nbformat": 4,
 "nbformat_minor": 0
}
